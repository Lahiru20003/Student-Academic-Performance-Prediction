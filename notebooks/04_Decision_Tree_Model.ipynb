# 04_Decision_Tree_Model.ipynb

import pandas as pd
from sklearn.model_selection import train_test_split, cross_val_score, GridSearchCV
from sklearn.tree import DecisionTreeRegressor
import joblib
# Load the preprocessed data
df_processed = pd.read_csv('../data/preprocessed_data.csv')
X = df_processed.drop('average_score', axis=1)
y = df_processed['average_score']
# Split data
X_train, X_test, y_train, y_test = train_test_split(X, y, test_size=0.2, random_state=42)
# Hyperparameter Tuning with GridSearchCV
param_grid = {
    'max_depth': [3, 5, 7, 9],
    'min_samples_leaf': [1, 2, 4, 6]
}

dt_reg = DecisionTreeRegressor(random_state=42)
grid_search = GridSearchCV(dt_reg, param_grid, cv=5, scoring='r2', n_jobs=-1)
grid_search.fit(X, y)

best_dt_model = grid_search.best_estimator_

print("Best parameters found: ", grid_search.best_params_)
import numpy as np  # BEGIN: ed8c6549bwf9
# Evaluate the best model
cv_scores_r2 = cross_val_score(best_dt_model, X, y, cv=5, scoring='r2')
print(f"Decision Tree Cross-Validation R-squared: {np.mean(cv_scores_r2):.2f} (+/- {np.std(cv_scores_r2):.2f})")
# Save the best model
joblib.dump(best_dt_model, '../models/decision_tree_model.pkl')
print("Decision Tree model saved.")
