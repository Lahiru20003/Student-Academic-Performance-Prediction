{
 "cells": [
  {
   "cell_type": "code",
   "execution_count": 1,
   "id": "ec0a94f3",
   "metadata": {},
   "outputs": [],
   "source": [
    "# 05_Random_Forest_Model.ipynb\n",
    "\n",
    "import pandas as pd\n",
    "from sklearn.model_selection import train_test_split, cross_val_score, RandomizedSearchCV\n",
    "from sklearn.ensemble import RandomForestRegressor\n",
    "import joblib"
   ]
  },
  {
   "cell_type": "code",
   "execution_count": 2,
   "id": "c53f120d",
   "metadata": {},
   "outputs": [],
   "source": [
    "# Load the preprocessed data\n",
    "df_processed = pd.read_csv('../data/preprocessed_data.csv')\n",
    "X = df_processed.drop('average_score', axis=1)\n",
    "y = df_processed['average_score']"
   ]
  },
  {
   "cell_type": "code",
   "execution_count": 3,
   "id": "e08bf98d",
   "metadata": {},
   "outputs": [],
   "source": [
    "# Split data\n",
    "X_train, X_test, y_train, y_test = train_test_split(X, y, test_size=0.2, random_state=42)"
   ]
  },
  {
   "cell_type": "code",
   "execution_count": 4,
   "id": "c2e67989",
   "metadata": {},
   "outputs": [
    {
     "name": "stdout",
     "output_type": "stream",
     "text": [
      "Best parameters found:  {'n_estimators': 300, 'min_samples_split': 2, 'min_samples_leaf': 1, 'max_depth': None}\n"
     ]
    }
   ],
   "source": [
    "# Hyperparameter Tuning with RandomizedSearchCV\n",
    "param_dist = {\n",
    "    'n_estimators': [100, 200, 300],\n",
    "    'max_depth': [5, 10, 15, None],\n",
    "    'min_samples_leaf': [1, 2, 4],\n",
    "    'min_samples_split': [2, 5, 10]\n",
    "}\n",
    "\n",
    "rf_reg = RandomForestRegressor(random_state=42)\n",
    "random_search = RandomizedSearchCV(rf_reg, param_distributions=param_dist, n_iter=10, cv=5, scoring='r2', n_jobs=-1, random_state=42)\n",
    "random_search.fit(X, y)\n",
    "\n",
    "best_rf_model = random_search.best_estimator_\n",
    "\n",
    "print(\"Best parameters found: \", random_search.best_params_)\n"
   ]
  },
  {
   "cell_type": "code",
   "execution_count": 6,
   "id": "350376b8",
   "metadata": {},
   "outputs": [
    {
     "name": "stdout",
     "output_type": "stream",
     "text": [
      "Random Forest Cross-Validation R-squared: 1.00 (+/- 0.00)\n"
     ]
    }
   ],
   "source": [
    "import numpy as np\n",
    "\n",
    "# Evaluate the best model\n",
    "cv_scores_r2 = cross_val_score(best_rf_model, X, y, cv=5, scoring='r2')\n",
    "print(f\"Random Forest Cross-Validation R-squared: {np.mean(cv_scores_r2):.2f} (+/- {np.std(cv_scores_r2):.2f})\")"
   ]
  },
  {
   "cell_type": "code",
   "execution_count": 7,
   "id": "cf84e123",
   "metadata": {},
   "outputs": [
    {
     "name": "stdout",
     "output_type": "stream",
     "text": [
      "Random Forest model saved.\n"
     ]
    }
   ],
   "source": [
    "# Save the best model\n",
    "joblib.dump(best_rf_model, '../models/random_forest_model.pkl')\n",
    "print(\"Random Forest model saved.\")"
   ]
  }
 ],
 "metadata": {
  "kernelspec": {
   "display_name": "Student-Academic-Performance-Prediction",
   "language": "python",
   "name": "python3"
  },
  "language_info": {
   "codemirror_mode": {
    "name": "ipython",
    "version": 3
   },
   "file_extension": ".py",
   "mimetype": "text/x-python",
   "name": "python",
   "nbconvert_exporter": "python",
   "pygments_lexer": "ipython3",
   "version": "3.13.5"
  }
 },
 "nbformat": 4,
 "nbformat_minor": 5
}
